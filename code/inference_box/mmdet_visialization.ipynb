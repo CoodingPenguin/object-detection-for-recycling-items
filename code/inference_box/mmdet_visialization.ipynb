{
 "cells": [
  {
   "cell_type": "code",
   "execution_count": null,
   "metadata": {
    "pycharm": {
     "name": "#%%\n"
    }
   },
   "outputs": [],
   "source": [
    "import mmcv\n",
    "from mmcv import Config\n",
    "from mmdet.datasets import (build_dataloader, build_dataset,\n",
    "                            replace_ImageToTensor)\n",
    "from mmdet.models import build_detector\n",
    "from mmdet.apis import single_gpu_test\n",
    "from mmcv.runner import load_checkpoint\n",
    "import os\n",
    "from mmcv.parallel import MMDataParallel\n",
    "import pandas as pd\n",
    "from pandas import DataFrame\n",
    "from pycocotools.coco import COCO\n",
    "import numpy as np\n",
    "import random\n",
    "import cv2\n",
    "from PIL import Image, ImageDraw\n",
    "import matplotlib.pyplot as plt"
   ]
  },
  {
   "cell_type": "code",
   "execution_count": null,
   "metadata": {},
   "outputs": [],
   "source": [
    "np.set_printoptions(suppress=True) # e 표기법 중지\n",
    "np.set_printoptions(precision=2) # 소수점 2자리까지 표시"
   ]
  },
  {
   "cell_type": "code",
   "execution_count": null,
   "metadata": {
    "pycharm": {
     "name": "#%%\n"
    }
   },
   "outputs": [],
   "source": [
    "classes = (\"UNKNOWN\", \"General trash\", \"Paper\", \"Paper pack\", \"Metal\", \"Glass\", \n",
    "           \"Plastic\", \"Styrofoam\", \"Plastic bag\", \"Battery\", \"Clothing\")"
   ]
  },
  {
   "cell_type": "markdown",
   "metadata": {},
   "source": [
    "## 확인하려는 config & checkpoint 경로 입력"
   ]
  },
  {
   "cell_type": "code",
   "execution_count": null,
   "metadata": {
    "pycharm": {
     "name": "#%%\n"
    }
   },
   "outputs": [],
   "source": [
    "# config file 들고오기\n",
    "cfg = Config.fromfile('/opt/ml/code/mmdetection_trash/configs/trash/ineedyolo/default.py') # config파일 경로\n",
    "# checkpoint path\n",
    "cfg.work_dir = '/opt/ml/code/mmdetection_trash/work_dirs/step2' \n",
    "checkpoint_path = os.path.join(cfg.work_dir, f'epoch_100.pth') # .pth파일 경로"
   ]
  },
  {
   "cell_type": "code",
   "execution_count": null,
   "metadata": {
    "pycharm": {
     "name": "#%%\n"
    }
   },
   "outputs": [],
   "source": [
    "PREFIX = '/opt/ml/input/data/'\n",
    "\n",
    "epoch = 12\n",
    "\n",
    "# dataset 바꾸기\n",
    "cfg.data.train.classes = classes\n",
    "cfg.data.train.img_prefix = PREFIX\n",
    "cfg.data.train.ann_file = PREFIX + 'train.json'\n",
    "cfg.data.train.pipeline[2]['img_scale'] = (512, 512)\n",
    "\n",
    "cfg.data.val.classes = classes\n",
    "cfg.data.val.img_prefix = PREFIX\n",
    "cfg.data.val.ann_file = PREFIX + 'val.json'\n",
    "cfg.data.val.pipeline[1]['img_scale'] = (512, 512)\n",
    "\n",
    "cfg.data.test.classes = classes\n",
    "cfg.data.test.img_prefix = PREFIX\n",
    "cfg.data.test.ann_file = PREFIX + 'test.json'\n",
    "cfg.data.test.pipeline[1]['img_scale'] = (512, 512)\n",
    "\n",
    "cfg.data.samples_per_gpu = 4\n",
    "\n",
    "cfg.seed=2020\n",
    "cfg.gpu_ids = [0]\n",
    "\n",
    "# cfg.model.roi_head.bbox_head.num_classes = 11 # 모델마다 사용여부가 다르니 주의 !!!\n",
    "\n",
    "cfg.optimizer_config.grad_clip = dict(max_norm=35, norm_type=2)\n",
    "cfg.model.train_cfg = None"
   ]
  },
  {
   "cell_type": "code",
   "execution_count": null,
   "metadata": {},
   "outputs": [],
   "source": [
    "model = build_detector(cfg.model, test_cfg=cfg.get('test_cfg'))\n",
    "checkpoint = load_checkpoint(model, checkpoint_path, map_location='cpu')\n",
    "\n",
    "model.CLASSES = classes\n",
    "model = MMDataParallel(model.cuda(), device_ids=[0])"
   ]
  },
  {
   "cell_type": "markdown",
   "metadata": {},
   "source": [
    "## Inference on validation data"
   ]
  },
  {
   "cell_type": "code",
   "execution_count": null,
   "metadata": {},
   "outputs": [],
   "source": [
    "valid_dataset = build_dataset(cfg.data.val)\n",
    "data_loader = build_dataloader(valid_dataset, samples_per_gpu=1, workers_per_gpu=cfg.data.workers_per_gpu, dist=False, shuffle=False)\n",
    "\n",
    "valid_coco = COCO(\"/opt/ml/input/data/val.json\")\n",
    "# valid_coco = COCO(\"../../input/data/val.json\")\n",
    "\n",
    "valid_output = single_gpu_test(model, data_loader, show_score_thr=0.05)"
   ]
  },
  {
   "cell_type": "markdown",
   "metadata": {},
   "source": [
    "## Define for helper function"
   ]
  },
  {
   "cell_type": "code",
   "execution_count": null,
   "metadata": {},
   "outputs": [],
   "source": [
    "class_num = 11\n",
    "class_name = classes = (\n",
    "    \"UNKNOWN\", \"General trash\", \"Paper\", \"Paper pack\", \n",
    "    \"Metal\", \"Glass\", \"Plastic\", \"Styrofoam\", \"Plastic bag\", \n",
    "    \"Battery\", \"Clothing\"\n",
    ")\n",
    "COLORS = [\n",
    "    (204,24,30),\n",
    "    (39,147,232),\n",
    "    (85,153,0),\n",
    "    (102,102,102),\n",
    "    (27,133,184),\n",
    "    (90,82,85),\n",
    "    (85,158,131),\n",
    "    (174,90,65),\n",
    "    (195,203,113),\n",
    "    (243,119,54),\n",
    "    (184,167,234)\n",
    "]\n",
    "\n",
    "def bbox_on_image(image, bboxes):\n",
    "    image = Image.fromarray(image)\n",
    "    draw = ImageDraw.Draw(image)\n",
    "    \n",
    "    for cls_idx in range(class_num):\n",
    "        for cls_bbox in bboxes[cls_idx]:\n",
    "            cls_name = class_name[cls_idx]\n",
    "            cls_score = cls_bbox[-1]\n",
    "            xmin, ymin, xmax, ymax = map(lambda x: int(x), cls_bbox[:4])\n",
    "            if cls_score > 0.05:\n",
    "                draw.rectangle(((xmin, ymin), (xmax, ymax)), outline=COLORS[cls_idx])\n",
    "                draw.text((xmin, ymin), f\"{cls_name}\\n{cls_score:4f}\", fill=\"#000000\")\n",
    "    \n",
    "    return image\n",
    "\n",
    "def get_gt_bboxes(anns):\n",
    "    gt_bboxes = [[] for _ in range(class_num)]\n",
    "    \n",
    "    for ann in anns:\n",
    "        cls_id = ann[\"category_id\"]\n",
    "        xmin, ymin, w, h = [int(v) for v in ann[\"bbox\"]]\n",
    "        xmax, ymax = xmin + w, ymin + h\n",
    "        \n",
    "        gt_bboxes[cls_id].append([xmin, ymin, xmax, ymax, 1.0])\n",
    "        \n",
    "    return gt_bboxes"
   ]
  },
  {
   "cell_type": "markdown",
   "metadata": {},
   "source": [
    "## Compare predicted image with ground truth"
   ]
  },
  {
   "cell_type": "code",
   "execution_count": null,
   "metadata": {},
   "outputs": [],
   "source": [
    "idx = random.randint(0, 655) # 확인하려는 이미지\n",
    "# idx = 0\n",
    "\n",
    "image = cv2.imread(os.path.join(\"/opt/ml/input/data\", valid_coco.load_imgs(idx)[0][\"file_name\"]))\n",
    "image = cv2.cvtColor(image, cv2.COLOR_BGR2RGB)\n",
    "image = image.copy()\n",
    "\n",
    "gt_bboxes = get_gt_bboxes(valid_coco.load_anns(valid_coco.get_ann_ids(idx)))\n",
    "# print(gt_bboxes)\n",
    "# print(type(gt_bboxes))\n",
    "# print(valid_output[idx][1:])\n",
    "# print(type(valid_output[idx])\n",
    "pred_bboxes = valid_output[idx]\n",
    "\n",
    "gt_image = bbox_on_image(image, gt_bboxes)\n",
    "pred_image = bbox_on_image(image, pred_bboxes)\n",
    "\n",
    "plt.figure(figsize=(20, 10))\n",
    "\n",
    "plt.subplot(1, 2, 1)\n",
    "plt.title(valid_coco.load_imgs(idx)[0][\"file_name\"] + \" - GT\")\n",
    "plt.axis(\"off\")\n",
    "plt.imshow(gt_image)\n",
    "\n",
    "plt.subplot(1, 2, 2)\n",
    "plt.title(valid_coco.load_imgs(idx)[0][\"file_name\"] + \" - Predicted\")\n",
    "plt.axis(\"off\")\n",
    "plt.imshow(pred_image)\n",
    "\n",
    "plt.show()"
   ]
  },
  {
   "cell_type": "markdown",
   "metadata": {},
   "source": [
    "## Inference on test data"
   ]
  },
  {
   "cell_type": "code",
   "execution_count": null,
   "metadata": {},
   "outputs": [],
   "source": [
    "test_dataset = build_dataset(cfg.data.test)\n",
    "data_loader = build_dataloader(test_dataset, samples_per_gpu=1, workers_per_gpu=cfg.data.workers_per_gpu, dist=False, shuffle=False)\n",
    "\n",
    "test_coco = COCO(\"/opt/ml/input/data/test.json\")\n",
    "test_output = single_gpu_test(model, data_loader, show_score_thr=0.05)"
   ]
  },
  {
   "cell_type": "markdown",
   "metadata": {},
   "source": [
    "## Draw predicted test image"
   ]
  },
  {
   "cell_type": "code",
   "execution_count": null,
   "metadata": {},
   "outputs": [],
   "source": [
    "idx = random.randint(0, 655) # 확인하려는 이미지\n",
    "# idx = 6\n",
    "\n",
    "image = cv2.imread(os.path.join(\"/opt/ml/input/data\", test_coco.load_imgs(idx)[0][\"file_name\"]))\n",
    "image = cv2.cvtColor(image, cv2.COLOR_BGR2RGB)\n",
    "image = image.copy()\n",
    "bboxes = test_output[idx]\n",
    "\n",
    "bboxed_image = bbox_on_image(image, bboxes)\n",
    "\n",
    "plt.figure(figsize=(12, 12))\n",
    "plt.axis(\"off\")\n",
    "plt.title(test_coco.load_imgs(idx)[0][\"file_name\"])\n",
    "plt.imshow(bboxed_image)\n",
    "plt.show()"
   ]
  },
  {
   "cell_type": "code",
   "execution_count": null,
   "metadata": {},
   "outputs": [],
   "source": []
  }
 ],
 "metadata": {
  "kernelspec": {
   "display_name": "Python 3",
   "language": "python",
   "name": "python3"
  },
  "language_info": {
   "codemirror_mode": {
    "name": "ipython",
    "version": 3
   },
   "file_extension": ".py",
   "mimetype": "text/x-python",
   "name": "python",
   "nbconvert_exporter": "python",
   "pygments_lexer": "ipython3",
   "version": "3.7.7"
  },
  "pycharm": {
   "stem_cell": {
    "cell_type": "raw",
    "metadata": {
     "collapsed": false
    },
    "source": []
   }
  }
 },
 "nbformat": 4,
 "nbformat_minor": 4
}
